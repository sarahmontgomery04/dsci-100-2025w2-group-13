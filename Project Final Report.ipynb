{
 "cells": [
  {
   "cell_type": "markdown",
   "id": "c7e9db36-9f91-409c-a1f7-b5b6f7ad3171",
   "metadata": {},
   "source": [
    "# Predicting Usage of a Video Game Research Server"
   ]
  },
  {
   "cell_type": "markdown",
   "id": "5af9c47a-cc28-481d-bea4-6026f6b34dd4",
   "metadata": {},
   "source": [
    "## Project Final Report"
   ]
  },
  {
   "cell_type": "markdown",
   "id": "933ff7d9-9a71-4f65-bf2a-629c9ceba3c0",
   "metadata": {},
   "source": [
    "##### Group 13 - Section 005"
   ]
  },
  {
   "cell_type": "markdown",
   "id": "67148055-69af-4985-8009-573a16d172d1",
   "metadata": {},
   "source": [
    "## Introduction"
   ]
  },
  {
   "cell_type": "markdown",
   "id": "109b871d-bab7-43ee-81c4-7b99ed8f7e93",
   "metadata": {},
   "source": [
    "A research group in the Department of Computer Science at UBC, called The Pacific Laboratory for Artificial Intelligence (PLAI), is working on advancing AI into something more safe and reliable, that we can all trust. One of their projects is a research data collection project that focusses on generative AI (The Pacific Laboratory for Artificial Intelligence, 2023). PLAI has created an online server called \"plaicraft.ai\", that is a free version fo Minecraft, that anyone can sign up for and play They collect data about the players and how they interact with the server, with the goal of using the data to create AI characters that respond to aspects in the video game in a way that's \"smarter\" than current non-player characters (Smith, 2023).\n",
    "\n",
    "Using this collected data, the main goal of our project is to answer the question of \"What player characteristics and behaviours are most predictive of subscribing to a game-related newsletter, and how do these features differ between various player types?\", with a more specefic question of \"Can age, gender, experience, and average play time per session predict the subscription of a player?\"."
   ]
  },
  {
   "cell_type": "markdown",
   "id": "7b1eb874-9a37-487c-9daa-a04158c8d17f",
   "metadata": {},
   "source": [
    "#### Description of Datasets"
   ]
  },
  {
   "cell_type": "markdown",
   "id": "8ab47165-1e4b-46e3-9f76-c4390777f7cc",
   "metadata": {},
   "source": [
    "The first dataset we used to answer our question is the `players.csv` dataset."
   ]
  },
  {
   "cell_type": "markdown",
   "id": "a47c8e15-1623-4646-a2af-95fadae895ee",
   "metadata": {},
   "source": [
    "This dataset is about 196 players in the Minecraft server, including:\n",
    "- `experience` - (Amateur, Beginner, Regular, Pro, Veteran)\n",
    "- `subscribe` - Subscription to the newsletter (TRUE/FALSE)\n",
    "- `hashedEmail` - String of letters and numbers to identify player\n",
    "- `played_hours`\n",
    "- `name`\n",
    "- `gender` - (Agender, Female, Male, Non-Binary, Two-Spirited, Other, Prefer not to say)\n",
    "- `age`\n"
   ]
  },
  {
   "cell_type": "markdown",
   "id": "ff950364-2a86-4689-8783-823f1879d399",
   "metadata": {},
   "source": [
    "The second dataset we used to answer our question is the `sessions.csv` dataset."
   ]
  },
  {
   "cell_type": "markdown",
   "id": "80a78b6e-b3b6-4e21-baf3-19f82517929e",
   "metadata": {},
   "source": [
    "This dataset is about 1535 sessions of play, including:\n",
    "- `hashedEmail`\n",
    "- `start_time` - Including date and time\n",
    "- `end_time` - Including date and time\n",
    "- `original_start_time` \n",
    "- `original_end_time`"
   ]
  },
  {
   "cell_type": "markdown",
   "id": "b6a8af35-fc62-4cda-bf2a-895a8c74810a",
   "metadata": {},
   "source": [
    "We used, from the `players.csv` data set, the `subscribe` variable as our response variable and `age`, `gender`, `experience` variables as three of our preedictor variables. From both the `players.csv` data set and `sessions.csv`, we used the `hashedEmail` variable to combine the data from both data sets. And from the `sessions.csv` data set, we used the `original_start_time` and `original_end_time` to "
   ]
  },
  {
   "cell_type": "markdown",
   "id": "de1483e3-4cfc-42f3-b498-b61358aa6b6b",
   "metadata": {},
   "source": [
    "### References"
   ]
  },
  {
   "cell_type": "markdown",
   "id": "f668e81b-0eaf-4586-a694-db9da67182f2",
   "metadata": {},
   "source": [
    "(1) Smith, A. (2023, September 28). plaicraft.ai launch - Pacific Laboratory for Artificial Intelligence. Pacific Laboratory for Artificial Intelligence. https://plai.cs.ubc.ca/2023/09/27/plaicraft/"
   ]
  },
  {
   "cell_type": "markdown",
   "id": "1875f8d2-eea1-4151-8404-33d0cdcf8f0a",
   "metadata": {},
   "source": [
    "(2)  The Pacific Laboratory for Artificial Intelligence. (2023, September 28). Home Page - Pacific Laboratory for Artificial Intelligence. Pacific Laboratory for Artificial Intelligence. https://plai.cs.ubc.ca/"
   ]
  }
 ],
 "metadata": {
  "kernelspec": {
   "display_name": "R",
   "language": "R",
   "name": "ir"
  },
  "language_info": {
   "codemirror_mode": "r",
   "file_extension": ".r",
   "mimetype": "text/x-r-source",
   "name": "R",
   "pygments_lexer": "r",
   "version": "4.3.3"
  }
 },
 "nbformat": 4,
 "nbformat_minor": 5
}
